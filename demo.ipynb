{
 "cells": [
  {
   "cell_type": "code",
   "execution_count": null,
   "metadata": {},
   "outputs": [],
   "source": [
    "schema = spark.table(\"demo.nyc.taxis\").schema\n",
    "data = [\n",
    "    (1, 1000371, 1.8, 15.32, \"N\"),\n",
    "    (2, 1000372, 2.5, 22.15, \"N\"),\n",
    "    (2, 1000373, 0.9, 9.01, \"N\"),\n",
    "    (1, 1000374, 8.4, 42.13, \"Y\")\n",
    "  ]\n",
    "df = spark.createDataFrame(data, schema)\n",
    "df.writeTo(\"demo.nyc.taxis\").append()"
   ]
  },
  {
   "cell_type": "code",
   "execution_count": null,
   "metadata": {},
   "outputs": [],
   "source": [
    "df = spark.table(\"demo.nyc.taxis\").show()\n"
   ]
  },
  {
   "cell_type": "code",
   "execution_count": null,
   "metadata": {},
   "outputs": [],
   "source": [
    "%%sql\n",
    "CREATE TABLE my_catalog.my_table (\n",
    "id bigint,\n",
    "data string,\n",
    "category string)\n",
    "USING iceberg\n",
    "LOCATION 's3://iceberg'\n",
    "PARTITIONED BY (category);\n"
   ]
  },
  {
   "cell_type": "code",
   "execution_count": null,
   "metadata": {},
   "outputs": [],
   "source": [
    "%%sql\n",
    "CREATE TABLE my_catalog.my_table (\n",
    "    id bigint,\n",
    "    data string,\n",
    "    category string)\n",
    "USING iceberg\n",
    "OPTIONS (\n",
    "    'write.object-storage.enabled'=true, \n",
    "    'write.data.path'='s3://iceberg')\n",
    "PARTITIONED BY (category);"
   ]
  },
  {
   "cell_type": "code",
   "execution_count": null,
   "metadata": {},
   "outputs": [],
   "source": [
    "%%sql\n",
    "INSERT INTO my_catalog.my_table VALUES (1, 'a', \"music\"), (2, 'b', \"music\"), (3, 'c', \"video\");"
   ]
  },
  {
   "cell_type": "code",
   "execution_count": null,
   "metadata": {},
   "outputs": [],
   "source": [
    "%%sql\n",
    "ALTER TABLE my_catalog.my_table ADD COLUMN month int AFTER category;\n",
    "ALTER TABLE my_catalog.my_table ADD PARTITION FIELD month;"
   ]
  },
  {
   "cell_type": "code",
   "execution_count": null,
   "metadata": {},
   "outputs": [],
   "source": [
    "%%sql\n",
    "SELECT * FROM my_catalog.my_table.snapshots;"
   ]
  },
  {
   "cell_type": "code",
   "execution_count": null,
   "metadata": {},
   "outputs": [],
   "source": [
    "%%sql\n",
    "SELECT * FROM my_catalog.my_table TIMESTAMP AS OF '1986-10-26 01:21:00';\n",
    "SELECT * FROM prod.db.table VERSION AS OF 10963874102873;"
   ]
  },
  {
   "cell_type": "code",
   "execution_count": null,
   "metadata": {},
   "outputs": [],
   "source": [
    "spark.read()\n",
    ".format(“iceberg”)\n",
    ".option(“start-snapshot-id”, “10963874102873”)\n",
    ".option(“end-snapshot-id”, “10963874102994”)\n",
    ".load(“s3://iceberg/my_table”) "
   ]
  },
  {
   "cell_type": "code",
   "execution_count": null,
   "metadata": {},
   "outputs": [],
   "source": [
    "%%sql\n",
    "CALL my_catalog.system.rollback_to_timestamp(‘my_table’, TIMESTAMP ‘2022-07-25 12:15:00.000’); \n",
    "CALL my_catalog.system.rollback_to_snapshot(‘my_table’, 527713811620162549);"
   ]
  },
  {
   "cell_type": "code",
   "execution_count": null,
   "metadata": {},
   "outputs": [],
   "source": [
    "%%sql\n",
    "DELETE FROM my_catalog.my_table WHERE category = ‘video’;"
   ]
  },
  {
   "cell_type": "code",
   "execution_count": null,
   "metadata": {},
   "outputs": [],
   "source": [
    "%%sql\n",
    "CREATE TABLE my_catalog.my_table_music AS SELECT * FROM my_catalog.my_table WHERE category = ‘music’; \n",
    "MERGE INTO my_catalog.my_data pt USING (SELECT * FROM my_catalog.my_data_new) st ON pt.id = st.id WHEN NOT MATCHED THEN INSERT *;\n",
    "SELECT * FROM my_catalog.my_table.files;\n",
    "SELECT * FROM my_catalog.my_table.manifests;\n",
    "SELECT * FROM my_catalog.my_table.history;\n",
    "SELECT * FROM my_catalog.my_table.snapshots;"
   ]
  },
  {
   "cell_type": "code",
   "execution_count": null,
   "metadata": {},
   "outputs": [],
   "source": [
    "%%sql\n",
    "select\n",
    "              h.made_current_at,\n",
    "              s.operation,\n",
    "              h.snapshot_id,\n",
    "              h.is_current_ancestor,\n",
    "              s.summary['spark.app.id']\n",
    "           from my_catalog.my_table.history h\n",
    "           join my_catalog.my_table.snapshots s\n",
    "              on h.snapshot_id = s.snapshot_id\n",
    "           order by made_current_at;"
   ]
  }
 ],
 "metadata": {
  "language_info": {
   "name": "python"
  }
 },
 "nbformat": 4,
 "nbformat_minor": 2
}
